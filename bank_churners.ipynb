{
 "metadata": {
  "language_info": {
   "codemirror_mode": {
    "name": "ipython",
    "version": 3
   },
   "file_extension": ".py",
   "mimetype": "text/x-python",
   "name": "python",
   "nbconvert_exporter": "python",
   "pygments_lexer": "ipython3",
   "version": "3.8.5"
  },
  "orig_nbformat": 2,
  "kernelspec": {
   "name": "python385jvsc74a57bd0b3ba2566441a7c06988d0923437866b63cedc61552a5af99d1f4fb67d367b25f",
   "display_name": "Python 3.8.5 64-bit ('base': conda)"
  }
 },
 "nbformat": 4,
 "nbformat_minor": 2,
 "cells": [
  {
   "cell_type": "code",
   "execution_count": 2,
   "metadata": {},
   "outputs": [],
   "source": [
    "import pandas as pd\n",
    "import numpy as np"
   ]
  },
  {
   "cell_type": "code",
   "execution_count": 3,
   "metadata": {},
   "outputs": [],
   "source": [
    "df = pd.read_csv('./data/BankChurners.csv')"
   ]
  },
  {
   "cell_type": "code",
   "execution_count": 4,
   "metadata": {},
   "outputs": [
    {
     "output_type": "execute_result",
     "data": {
      "text/plain": [
       "       CLIENTNUM     Attrition_Flag  Customer_Age Gender  Dependent_count  \\\n",
       "0      768805383  Existing Customer            45      M                3   \n",
       "1      818770008  Existing Customer            49      F                5   \n",
       "2      713982108  Existing Customer            51      M                3   \n",
       "3      769911858  Existing Customer            40      F                4   \n",
       "4      709106358  Existing Customer            40      M                3   \n",
       "...          ...                ...           ...    ...              ...   \n",
       "10122  772366833  Existing Customer            50      M                2   \n",
       "10123  710638233  Attrited Customer            41      M                2   \n",
       "10124  716506083  Attrited Customer            44      F                1   \n",
       "10125  717406983  Attrited Customer            30      M                2   \n",
       "10126  714337233  Attrited Customer            43      F                2   \n",
       "\n",
       "      Education_Level Marital_Status Income_Category Card_Category  \\\n",
       "0         High School        Married     $60K - $80K          Blue   \n",
       "1            Graduate         Single  Less than $40K          Blue   \n",
       "2            Graduate        Married    $80K - $120K          Blue   \n",
       "3         High School        Unknown  Less than $40K          Blue   \n",
       "4          Uneducated        Married     $60K - $80K          Blue   \n",
       "...               ...            ...             ...           ...   \n",
       "10122        Graduate         Single     $40K - $60K          Blue   \n",
       "10123         Unknown       Divorced     $40K - $60K          Blue   \n",
       "10124     High School        Married  Less than $40K          Blue   \n",
       "10125        Graduate        Unknown     $40K - $60K          Blue   \n",
       "10126        Graduate        Married  Less than $40K        Silver   \n",
       "\n",
       "       Months_on_book  ...  Credit_Limit  Total_Revolving_Bal  \\\n",
       "0                  39  ...       12691.0                  777   \n",
       "1                  44  ...        8256.0                  864   \n",
       "2                  36  ...        3418.0                    0   \n",
       "3                  34  ...        3313.0                 2517   \n",
       "4                  21  ...        4716.0                    0   \n",
       "...               ...  ...           ...                  ...   \n",
       "10122              40  ...        4003.0                 1851   \n",
       "10123              25  ...        4277.0                 2186   \n",
       "10124              36  ...        5409.0                    0   \n",
       "10125              36  ...        5281.0                    0   \n",
       "10126              25  ...       10388.0                 1961   \n",
       "\n",
       "       Avg_Open_To_Buy  Total_Amt_Chng_Q4_Q1  Total_Trans_Amt  Total_Trans_Ct  \\\n",
       "0              11914.0                 1.335             1144              42   \n",
       "1               7392.0                 1.541             1291              33   \n",
       "2               3418.0                 2.594             1887              20   \n",
       "3                796.0                 1.405             1171              20   \n",
       "4               4716.0                 2.175              816              28   \n",
       "...                ...                   ...              ...             ...   \n",
       "10122           2152.0                 0.703            15476             117   \n",
       "10123           2091.0                 0.804             8764              69   \n",
       "10124           5409.0                 0.819            10291              60   \n",
       "10125           5281.0                 0.535             8395              62   \n",
       "10126           8427.0                 0.703            10294              61   \n",
       "\n",
       "       Total_Ct_Chng_Q4_Q1  Avg_Utilization_Ratio  \\\n",
       "0                    1.625                  0.061   \n",
       "1                    3.714                  0.105   \n",
       "2                    2.333                  0.000   \n",
       "3                    2.333                  0.760   \n",
       "4                    2.500                  0.000   \n",
       "...                    ...                    ...   \n",
       "10122                0.857                  0.462   \n",
       "10123                0.683                  0.511   \n",
       "10124                0.818                  0.000   \n",
       "10125                0.722                  0.000   \n",
       "10126                0.649                  0.189   \n",
       "\n",
       "       Naive_Bayes_Classifier_Attrition_Flag_Card_Category_Contacts_Count_12_mon_Dependent_count_Education_Level_Months_Inactive_12_mon_1  \\\n",
       "0                                               0.000093                                                                                    \n",
       "1                                               0.000057                                                                                    \n",
       "2                                               0.000021                                                                                    \n",
       "3                                               0.000134                                                                                    \n",
       "4                                               0.000022                                                                                    \n",
       "...                                                  ...                                                                                    \n",
       "10122                                           0.000191                                                                                    \n",
       "10123                                           0.995270                                                                                    \n",
       "10124                                           0.997880                                                                                    \n",
       "10125                                           0.996710                                                                                    \n",
       "10126                                           0.996620                                                                                    \n",
       "\n",
       "       Naive_Bayes_Classifier_Attrition_Flag_Card_Category_Contacts_Count_12_mon_Dependent_count_Education_Level_Months_Inactive_12_mon_2  \n",
       "0                                               0.999910                                                                                   \n",
       "1                                               0.999940                                                                                   \n",
       "2                                               0.999980                                                                                   \n",
       "3                                               0.999870                                                                                   \n",
       "4                                               0.999980                                                                                   \n",
       "...                                                  ...                                                                                   \n",
       "10122                                           0.999810                                                                                   \n",
       "10123                                           0.004729                                                                                   \n",
       "10124                                           0.002118                                                                                   \n",
       "10125                                           0.003294                                                                                   \n",
       "10126                                           0.003377                                                                                   \n",
       "\n",
       "[10127 rows x 23 columns]"
      ],
      "text/html": "<div>\n<style scoped>\n    .dataframe tbody tr th:only-of-type {\n        vertical-align: middle;\n    }\n\n    .dataframe tbody tr th {\n        vertical-align: top;\n    }\n\n    .dataframe thead th {\n        text-align: right;\n    }\n</style>\n<table border=\"1\" class=\"dataframe\">\n  <thead>\n    <tr style=\"text-align: right;\">\n      <th></th>\n      <th>CLIENTNUM</th>\n      <th>Attrition_Flag</th>\n      <th>Customer_Age</th>\n      <th>Gender</th>\n      <th>Dependent_count</th>\n      <th>Education_Level</th>\n      <th>Marital_Status</th>\n      <th>Income_Category</th>\n      <th>Card_Category</th>\n      <th>Months_on_book</th>\n      <th>...</th>\n      <th>Credit_Limit</th>\n      <th>Total_Revolving_Bal</th>\n      <th>Avg_Open_To_Buy</th>\n      <th>Total_Amt_Chng_Q4_Q1</th>\n      <th>Total_Trans_Amt</th>\n      <th>Total_Trans_Ct</th>\n      <th>Total_Ct_Chng_Q4_Q1</th>\n      <th>Avg_Utilization_Ratio</th>\n      <th>Naive_Bayes_Classifier_Attrition_Flag_Card_Category_Contacts_Count_12_mon_Dependent_count_Education_Level_Months_Inactive_12_mon_1</th>\n      <th>Naive_Bayes_Classifier_Attrition_Flag_Card_Category_Contacts_Count_12_mon_Dependent_count_Education_Level_Months_Inactive_12_mon_2</th>\n    </tr>\n  </thead>\n  <tbody>\n    <tr>\n      <th>0</th>\n      <td>768805383</td>\n      <td>Existing Customer</td>\n      <td>45</td>\n      <td>M</td>\n      <td>3</td>\n      <td>High School</td>\n      <td>Married</td>\n      <td>$60K - $80K</td>\n      <td>Blue</td>\n      <td>39</td>\n      <td>...</td>\n      <td>12691.0</td>\n      <td>777</td>\n      <td>11914.0</td>\n      <td>1.335</td>\n      <td>1144</td>\n      <td>42</td>\n      <td>1.625</td>\n      <td>0.061</td>\n      <td>0.000093</td>\n      <td>0.999910</td>\n    </tr>\n    <tr>\n      <th>1</th>\n      <td>818770008</td>\n      <td>Existing Customer</td>\n      <td>49</td>\n      <td>F</td>\n      <td>5</td>\n      <td>Graduate</td>\n      <td>Single</td>\n      <td>Less than $40K</td>\n      <td>Blue</td>\n      <td>44</td>\n      <td>...</td>\n      <td>8256.0</td>\n      <td>864</td>\n      <td>7392.0</td>\n      <td>1.541</td>\n      <td>1291</td>\n      <td>33</td>\n      <td>3.714</td>\n      <td>0.105</td>\n      <td>0.000057</td>\n      <td>0.999940</td>\n    </tr>\n    <tr>\n      <th>2</th>\n      <td>713982108</td>\n      <td>Existing Customer</td>\n      <td>51</td>\n      <td>M</td>\n      <td>3</td>\n      <td>Graduate</td>\n      <td>Married</td>\n      <td>$80K - $120K</td>\n      <td>Blue</td>\n      <td>36</td>\n      <td>...</td>\n      <td>3418.0</td>\n      <td>0</td>\n      <td>3418.0</td>\n      <td>2.594</td>\n      <td>1887</td>\n      <td>20</td>\n      <td>2.333</td>\n      <td>0.000</td>\n      <td>0.000021</td>\n      <td>0.999980</td>\n    </tr>\n    <tr>\n      <th>3</th>\n      <td>769911858</td>\n      <td>Existing Customer</td>\n      <td>40</td>\n      <td>F</td>\n      <td>4</td>\n      <td>High School</td>\n      <td>Unknown</td>\n      <td>Less than $40K</td>\n      <td>Blue</td>\n      <td>34</td>\n      <td>...</td>\n      <td>3313.0</td>\n      <td>2517</td>\n      <td>796.0</td>\n      <td>1.405</td>\n      <td>1171</td>\n      <td>20</td>\n      <td>2.333</td>\n      <td>0.760</td>\n      <td>0.000134</td>\n      <td>0.999870</td>\n    </tr>\n    <tr>\n      <th>4</th>\n      <td>709106358</td>\n      <td>Existing Customer</td>\n      <td>40</td>\n      <td>M</td>\n      <td>3</td>\n      <td>Uneducated</td>\n      <td>Married</td>\n      <td>$60K - $80K</td>\n      <td>Blue</td>\n      <td>21</td>\n      <td>...</td>\n      <td>4716.0</td>\n      <td>0</td>\n      <td>4716.0</td>\n      <td>2.175</td>\n      <td>816</td>\n      <td>28</td>\n      <td>2.500</td>\n      <td>0.000</td>\n      <td>0.000022</td>\n      <td>0.999980</td>\n    </tr>\n    <tr>\n      <th>...</th>\n      <td>...</td>\n      <td>...</td>\n      <td>...</td>\n      <td>...</td>\n      <td>...</td>\n      <td>...</td>\n      <td>...</td>\n      <td>...</td>\n      <td>...</td>\n      <td>...</td>\n      <td>...</td>\n      <td>...</td>\n      <td>...</td>\n      <td>...</td>\n      <td>...</td>\n      <td>...</td>\n      <td>...</td>\n      <td>...</td>\n      <td>...</td>\n      <td>...</td>\n      <td>...</td>\n    </tr>\n    <tr>\n      <th>10122</th>\n      <td>772366833</td>\n      <td>Existing Customer</td>\n      <td>50</td>\n      <td>M</td>\n      <td>2</td>\n      <td>Graduate</td>\n      <td>Single</td>\n      <td>$40K - $60K</td>\n      <td>Blue</td>\n      <td>40</td>\n      <td>...</td>\n      <td>4003.0</td>\n      <td>1851</td>\n      <td>2152.0</td>\n      <td>0.703</td>\n      <td>15476</td>\n      <td>117</td>\n      <td>0.857</td>\n      <td>0.462</td>\n      <td>0.000191</td>\n      <td>0.999810</td>\n    </tr>\n    <tr>\n      <th>10123</th>\n      <td>710638233</td>\n      <td>Attrited Customer</td>\n      <td>41</td>\n      <td>M</td>\n      <td>2</td>\n      <td>Unknown</td>\n      <td>Divorced</td>\n      <td>$40K - $60K</td>\n      <td>Blue</td>\n      <td>25</td>\n      <td>...</td>\n      <td>4277.0</td>\n      <td>2186</td>\n      <td>2091.0</td>\n      <td>0.804</td>\n      <td>8764</td>\n      <td>69</td>\n      <td>0.683</td>\n      <td>0.511</td>\n      <td>0.995270</td>\n      <td>0.004729</td>\n    </tr>\n    <tr>\n      <th>10124</th>\n      <td>716506083</td>\n      <td>Attrited Customer</td>\n      <td>44</td>\n      <td>F</td>\n      <td>1</td>\n      <td>High School</td>\n      <td>Married</td>\n      <td>Less than $40K</td>\n      <td>Blue</td>\n      <td>36</td>\n      <td>...</td>\n      <td>5409.0</td>\n      <td>0</td>\n      <td>5409.0</td>\n      <td>0.819</td>\n      <td>10291</td>\n      <td>60</td>\n      <td>0.818</td>\n      <td>0.000</td>\n      <td>0.997880</td>\n      <td>0.002118</td>\n    </tr>\n    <tr>\n      <th>10125</th>\n      <td>717406983</td>\n      <td>Attrited Customer</td>\n      <td>30</td>\n      <td>M</td>\n      <td>2</td>\n      <td>Graduate</td>\n      <td>Unknown</td>\n      <td>$40K - $60K</td>\n      <td>Blue</td>\n      <td>36</td>\n      <td>...</td>\n      <td>5281.0</td>\n      <td>0</td>\n      <td>5281.0</td>\n      <td>0.535</td>\n      <td>8395</td>\n      <td>62</td>\n      <td>0.722</td>\n      <td>0.000</td>\n      <td>0.996710</td>\n      <td>0.003294</td>\n    </tr>\n    <tr>\n      <th>10126</th>\n      <td>714337233</td>\n      <td>Attrited Customer</td>\n      <td>43</td>\n      <td>F</td>\n      <td>2</td>\n      <td>Graduate</td>\n      <td>Married</td>\n      <td>Less than $40K</td>\n      <td>Silver</td>\n      <td>25</td>\n      <td>...</td>\n      <td>10388.0</td>\n      <td>1961</td>\n      <td>8427.0</td>\n      <td>0.703</td>\n      <td>10294</td>\n      <td>61</td>\n      <td>0.649</td>\n      <td>0.189</td>\n      <td>0.996620</td>\n      <td>0.003377</td>\n    </tr>\n  </tbody>\n</table>\n<p>10127 rows × 23 columns</p>\n</div>"
     },
     "metadata": {},
     "execution_count": 4
    }
   ],
   "source": [
    "df"
   ]
  },
  {
   "cell_type": "code",
   "execution_count": 22,
   "metadata": {},
   "outputs": [
    {
     "output_type": "execute_result",
     "data": {
      "text/plain": [
       "(10127, 23)"
      ]
     },
     "metadata": {},
     "execution_count": 22
    }
   ],
   "source": [
    "df.shape"
   ]
  },
  {
   "cell_type": "code",
   "execution_count": 7,
   "metadata": {},
   "outputs": [
    {
     "output_type": "execute_result",
     "data": {
      "text/plain": [
       "CLIENTNUM                                                                                                                             1627\n",
       "Attrition_Flag                                                                                                                        1627\n",
       "Customer_Age                                                                                                                          1627\n",
       "Gender                                                                                                                                1627\n",
       "Dependent_count                                                                                                                       1627\n",
       "Education_Level                                                                                                                       1627\n",
       "Marital_Status                                                                                                                        1627\n",
       "Income_Category                                                                                                                       1627\n",
       "Card_Category                                                                                                                         1627\n",
       "Months_on_book                                                                                                                        1627\n",
       "Total_Relationship_Count                                                                                                              1627\n",
       "Months_Inactive_12_mon                                                                                                                1627\n",
       "Contacts_Count_12_mon                                                                                                                 1627\n",
       "Credit_Limit                                                                                                                          1627\n",
       "Total_Revolving_Bal                                                                                                                   1627\n",
       "Avg_Open_To_Buy                                                                                                                       1627\n",
       "Total_Amt_Chng_Q4_Q1                                                                                                                  1627\n",
       "Total_Trans_Amt                                                                                                                       1627\n",
       "Total_Trans_Ct                                                                                                                        1627\n",
       "Total_Ct_Chng_Q4_Q1                                                                                                                   1627\n",
       "Avg_Utilization_Ratio                                                                                                                 1627\n",
       "Naive_Bayes_Classifier_Attrition_Flag_Card_Category_Contacts_Count_12_mon_Dependent_count_Education_Level_Months_Inactive_12_mon_1    1627\n",
       "Naive_Bayes_Classifier_Attrition_Flag_Card_Category_Contacts_Count_12_mon_Dependent_count_Education_Level_Months_Inactive_12_mon_2    1627\n",
       "dtype: int64"
      ]
     },
     "metadata": {},
     "execution_count": 7
    }
   ],
   "source": [
    "df[df['Attrition_Flag'] == 'Attrited Customer'].count()"
   ]
  },
  {
   "cell_type": "code",
   "execution_count": 12,
   "metadata": {},
   "outputs": [
    {
     "output_type": "execute_result",
     "data": {
      "text/plain": [
       "       CLIENTNUM     Attrition_Flag  Customer_Age Gender  Dependent_count  \\\n",
       "21     708508758  Attrited Customer            62      F                0   \n",
       "39     708300483  Attrited Customer            66      F                0   \n",
       "51     779471883  Attrited Customer            54      F                1   \n",
       "54     714374133  Attrited Customer            56      M                2   \n",
       "61     712030833  Attrited Customer            48      M                2   \n",
       "...          ...                ...           ...    ...              ...   \n",
       "10119  716893683  Attrited Customer            55      F                3   \n",
       "10123  710638233  Attrited Customer            41      M                2   \n",
       "10124  716506083  Attrited Customer            44      F                1   \n",
       "10125  717406983  Attrited Customer            30      M                2   \n",
       "10126  714337233  Attrited Customer            43      F                2   \n",
       "\n",
       "      Education_Level Marital_Status Income_Category Card_Category  \\\n",
       "21           Graduate        Married  Less than $40K          Blue   \n",
       "39          Doctorate        Married         Unknown          Blue   \n",
       "51           Graduate        Married  Less than $40K          Blue   \n",
       "54           Graduate        Married         $120K +          Blue   \n",
       "61           Graduate        Married     $60K - $80K        Silver   \n",
       "...               ...            ...             ...           ...   \n",
       "10119      Uneducated         Single         Unknown          Blue   \n",
       "10123         Unknown       Divorced     $40K - $60K          Blue   \n",
       "10124     High School        Married  Less than $40K          Blue   \n",
       "10125        Graduate        Unknown     $40K - $60K          Blue   \n",
       "10126        Graduate        Married  Less than $40K        Silver   \n",
       "\n",
       "       Months_on_book  ...  Credit_Limit  Total_Revolving_Bal  \\\n",
       "21                 49  ...        1438.3                    0   \n",
       "39                 56  ...        7882.0                  605   \n",
       "51                 40  ...        1438.3                  808   \n",
       "54                 36  ...       15769.0                    0   \n",
       "61                 35  ...       34516.0                    0   \n",
       "...               ...  ...           ...                  ...   \n",
       "10119              47  ...       14657.0                 2517   \n",
       "10123              25  ...        4277.0                 2186   \n",
       "10124              36  ...        5409.0                    0   \n",
       "10125              36  ...        5281.0                    0   \n",
       "10126              25  ...       10388.0                 1961   \n",
       "\n",
       "       Avg_Open_To_Buy  Total_Amt_Chng_Q4_Q1  Total_Trans_Amt  Total_Trans_Ct  \\\n",
       "21              1438.3                 1.047              692              16   \n",
       "39              7277.0                 1.052              704              16   \n",
       "51               630.3                 0.997              705              19   \n",
       "54             15769.0                 1.041              602              15   \n",
       "61             34516.0                 0.763              691              15   \n",
       "...                ...                   ...              ...             ...   \n",
       "10119          12140.0                 0.166             6009              53   \n",
       "10123           2091.0                 0.804             8764              69   \n",
       "10124           5409.0                 0.819            10291              60   \n",
       "10125           5281.0                 0.535             8395              62   \n",
       "10126           8427.0                 0.703            10294              61   \n",
       "\n",
       "       Total_Ct_Chng_Q4_Q1  Avg_Utilization_Ratio  \\\n",
       "21                   0.600                  0.000   \n",
       "39                   0.143                  0.077   \n",
       "51                   0.900                  0.562   \n",
       "54                   0.364                  0.000   \n",
       "61                   0.500                  0.000   \n",
       "...                    ...                    ...   \n",
       "10119                0.514                  0.172   \n",
       "10123                0.683                  0.511   \n",
       "10124                0.818                  0.000   \n",
       "10125                0.722                  0.000   \n",
       "10126                0.649                  0.189   \n",
       "\n",
       "       Naive_Bayes_Classifier_Attrition_Flag_Card_Category_Contacts_Count_12_mon_Dependent_count_Education_Level_Months_Inactive_12_mon_1  \\\n",
       "21                                               0.99616                                                                                    \n",
       "39                                               0.99780                                                                                    \n",
       "51                                               0.99028                                                                                    \n",
       "54                                               0.99671                                                                                    \n",
       "61                                               0.99823                                                                                    \n",
       "...                                                  ...                                                                                    \n",
       "10119                                            0.99691                                                                                    \n",
       "10123                                            0.99527                                                                                    \n",
       "10124                                            0.99788                                                                                    \n",
       "10125                                            0.99671                                                                                    \n",
       "10126                                            0.99662                                                                                    \n",
       "\n",
       "       Naive_Bayes_Classifier_Attrition_Flag_Card_Category_Contacts_Count_12_mon_Dependent_count_Education_Level_Months_Inactive_12_mon_2  \n",
       "21                                              0.003836                                                                                   \n",
       "39                                              0.002197                                                                                   \n",
       "51                                              0.009720                                                                                   \n",
       "54                                              0.003294                                                                                   \n",
       "61                                              0.001771                                                                                   \n",
       "...                                                  ...                                                                                   \n",
       "10119                                           0.003088                                                                                   \n",
       "10123                                           0.004729                                                                                   \n",
       "10124                                           0.002118                                                                                   \n",
       "10125                                           0.003294                                                                                   \n",
       "10126                                           0.003377                                                                                   \n",
       "\n",
       "[1627 rows x 23 columns]"
      ],
      "text/html": "<div>\n<style scoped>\n    .dataframe tbody tr th:only-of-type {\n        vertical-align: middle;\n    }\n\n    .dataframe tbody tr th {\n        vertical-align: top;\n    }\n\n    .dataframe thead th {\n        text-align: right;\n    }\n</style>\n<table border=\"1\" class=\"dataframe\">\n  <thead>\n    <tr style=\"text-align: right;\">\n      <th></th>\n      <th>CLIENTNUM</th>\n      <th>Attrition_Flag</th>\n      <th>Customer_Age</th>\n      <th>Gender</th>\n      <th>Dependent_count</th>\n      <th>Education_Level</th>\n      <th>Marital_Status</th>\n      <th>Income_Category</th>\n      <th>Card_Category</th>\n      <th>Months_on_book</th>\n      <th>...</th>\n      <th>Credit_Limit</th>\n      <th>Total_Revolving_Bal</th>\n      <th>Avg_Open_To_Buy</th>\n      <th>Total_Amt_Chng_Q4_Q1</th>\n      <th>Total_Trans_Amt</th>\n      <th>Total_Trans_Ct</th>\n      <th>Total_Ct_Chng_Q4_Q1</th>\n      <th>Avg_Utilization_Ratio</th>\n      <th>Naive_Bayes_Classifier_Attrition_Flag_Card_Category_Contacts_Count_12_mon_Dependent_count_Education_Level_Months_Inactive_12_mon_1</th>\n      <th>Naive_Bayes_Classifier_Attrition_Flag_Card_Category_Contacts_Count_12_mon_Dependent_count_Education_Level_Months_Inactive_12_mon_2</th>\n    </tr>\n  </thead>\n  <tbody>\n    <tr>\n      <th>21</th>\n      <td>708508758</td>\n      <td>Attrited Customer</td>\n      <td>62</td>\n      <td>F</td>\n      <td>0</td>\n      <td>Graduate</td>\n      <td>Married</td>\n      <td>Less than $40K</td>\n      <td>Blue</td>\n      <td>49</td>\n      <td>...</td>\n      <td>1438.3</td>\n      <td>0</td>\n      <td>1438.3</td>\n      <td>1.047</td>\n      <td>692</td>\n      <td>16</td>\n      <td>0.600</td>\n      <td>0.000</td>\n      <td>0.99616</td>\n      <td>0.003836</td>\n    </tr>\n    <tr>\n      <th>39</th>\n      <td>708300483</td>\n      <td>Attrited Customer</td>\n      <td>66</td>\n      <td>F</td>\n      <td>0</td>\n      <td>Doctorate</td>\n      <td>Married</td>\n      <td>Unknown</td>\n      <td>Blue</td>\n      <td>56</td>\n      <td>...</td>\n      <td>7882.0</td>\n      <td>605</td>\n      <td>7277.0</td>\n      <td>1.052</td>\n      <td>704</td>\n      <td>16</td>\n      <td>0.143</td>\n      <td>0.077</td>\n      <td>0.99780</td>\n      <td>0.002197</td>\n    </tr>\n    <tr>\n      <th>51</th>\n      <td>779471883</td>\n      <td>Attrited Customer</td>\n      <td>54</td>\n      <td>F</td>\n      <td>1</td>\n      <td>Graduate</td>\n      <td>Married</td>\n      <td>Less than $40K</td>\n      <td>Blue</td>\n      <td>40</td>\n      <td>...</td>\n      <td>1438.3</td>\n      <td>808</td>\n      <td>630.3</td>\n      <td>0.997</td>\n      <td>705</td>\n      <td>19</td>\n      <td>0.900</td>\n      <td>0.562</td>\n      <td>0.99028</td>\n      <td>0.009720</td>\n    </tr>\n    <tr>\n      <th>54</th>\n      <td>714374133</td>\n      <td>Attrited Customer</td>\n      <td>56</td>\n      <td>M</td>\n      <td>2</td>\n      <td>Graduate</td>\n      <td>Married</td>\n      <td>$120K +</td>\n      <td>Blue</td>\n      <td>36</td>\n      <td>...</td>\n      <td>15769.0</td>\n      <td>0</td>\n      <td>15769.0</td>\n      <td>1.041</td>\n      <td>602</td>\n      <td>15</td>\n      <td>0.364</td>\n      <td>0.000</td>\n      <td>0.99671</td>\n      <td>0.003294</td>\n    </tr>\n    <tr>\n      <th>61</th>\n      <td>712030833</td>\n      <td>Attrited Customer</td>\n      <td>48</td>\n      <td>M</td>\n      <td>2</td>\n      <td>Graduate</td>\n      <td>Married</td>\n      <td>$60K - $80K</td>\n      <td>Silver</td>\n      <td>35</td>\n      <td>...</td>\n      <td>34516.0</td>\n      <td>0</td>\n      <td>34516.0</td>\n      <td>0.763</td>\n      <td>691</td>\n      <td>15</td>\n      <td>0.500</td>\n      <td>0.000</td>\n      <td>0.99823</td>\n      <td>0.001771</td>\n    </tr>\n    <tr>\n      <th>...</th>\n      <td>...</td>\n      <td>...</td>\n      <td>...</td>\n      <td>...</td>\n      <td>...</td>\n      <td>...</td>\n      <td>...</td>\n      <td>...</td>\n      <td>...</td>\n      <td>...</td>\n      <td>...</td>\n      <td>...</td>\n      <td>...</td>\n      <td>...</td>\n      <td>...</td>\n      <td>...</td>\n      <td>...</td>\n      <td>...</td>\n      <td>...</td>\n      <td>...</td>\n      <td>...</td>\n    </tr>\n    <tr>\n      <th>10119</th>\n      <td>716893683</td>\n      <td>Attrited Customer</td>\n      <td>55</td>\n      <td>F</td>\n      <td>3</td>\n      <td>Uneducated</td>\n      <td>Single</td>\n      <td>Unknown</td>\n      <td>Blue</td>\n      <td>47</td>\n      <td>...</td>\n      <td>14657.0</td>\n      <td>2517</td>\n      <td>12140.0</td>\n      <td>0.166</td>\n      <td>6009</td>\n      <td>53</td>\n      <td>0.514</td>\n      <td>0.172</td>\n      <td>0.99691</td>\n      <td>0.003088</td>\n    </tr>\n    <tr>\n      <th>10123</th>\n      <td>710638233</td>\n      <td>Attrited Customer</td>\n      <td>41</td>\n      <td>M</td>\n      <td>2</td>\n      <td>Unknown</td>\n      <td>Divorced</td>\n      <td>$40K - $60K</td>\n      <td>Blue</td>\n      <td>25</td>\n      <td>...</td>\n      <td>4277.0</td>\n      <td>2186</td>\n      <td>2091.0</td>\n      <td>0.804</td>\n      <td>8764</td>\n      <td>69</td>\n      <td>0.683</td>\n      <td>0.511</td>\n      <td>0.99527</td>\n      <td>0.004729</td>\n    </tr>\n    <tr>\n      <th>10124</th>\n      <td>716506083</td>\n      <td>Attrited Customer</td>\n      <td>44</td>\n      <td>F</td>\n      <td>1</td>\n      <td>High School</td>\n      <td>Married</td>\n      <td>Less than $40K</td>\n      <td>Blue</td>\n      <td>36</td>\n      <td>...</td>\n      <td>5409.0</td>\n      <td>0</td>\n      <td>5409.0</td>\n      <td>0.819</td>\n      <td>10291</td>\n      <td>60</td>\n      <td>0.818</td>\n      <td>0.000</td>\n      <td>0.99788</td>\n      <td>0.002118</td>\n    </tr>\n    <tr>\n      <th>10125</th>\n      <td>717406983</td>\n      <td>Attrited Customer</td>\n      <td>30</td>\n      <td>M</td>\n      <td>2</td>\n      <td>Graduate</td>\n      <td>Unknown</td>\n      <td>$40K - $60K</td>\n      <td>Blue</td>\n      <td>36</td>\n      <td>...</td>\n      <td>5281.0</td>\n      <td>0</td>\n      <td>5281.0</td>\n      <td>0.535</td>\n      <td>8395</td>\n      <td>62</td>\n      <td>0.722</td>\n      <td>0.000</td>\n      <td>0.99671</td>\n      <td>0.003294</td>\n    </tr>\n    <tr>\n      <th>10126</th>\n      <td>714337233</td>\n      <td>Attrited Customer</td>\n      <td>43</td>\n      <td>F</td>\n      <td>2</td>\n      <td>Graduate</td>\n      <td>Married</td>\n      <td>Less than $40K</td>\n      <td>Silver</td>\n      <td>25</td>\n      <td>...</td>\n      <td>10388.0</td>\n      <td>1961</td>\n      <td>8427.0</td>\n      <td>0.703</td>\n      <td>10294</td>\n      <td>61</td>\n      <td>0.649</td>\n      <td>0.189</td>\n      <td>0.99662</td>\n      <td>0.003377</td>\n    </tr>\n  </tbody>\n</table>\n<p>1627 rows × 23 columns</p>\n</div>"
     },
     "metadata": {},
     "execution_count": 12
    }
   ],
   "source": [
    "churn = df[df['Attrition_Flag'] == 'Attrited Customer']\n",
    "churn"
   ]
  },
  {
   "cell_type": "code",
   "execution_count": 33,
   "metadata": {},
   "outputs": [
    {
     "output_type": "execute_result",
     "data": {
      "text/plain": [
       "5358"
      ]
     },
     "metadata": {},
     "execution_count": 33
    }
   ],
   "source": [
    "women_total = df[df['Gender'] == 'F'].Gender.count()\n",
    "women_total"
   ]
  },
  {
   "cell_type": "code",
   "execution_count": 34,
   "metadata": {},
   "outputs": [
    {
     "output_type": "execute_result",
     "data": {
      "text/plain": [
       "4769"
      ]
     },
     "metadata": {},
     "execution_count": 34
    }
   ],
   "source": [
    "men_total = df[df['Gender'] == 'M'].Gender.count()\n",
    "men_total"
   ]
  },
  {
   "cell_type": "code",
   "execution_count": 35,
   "metadata": {},
   "outputs": [
    {
     "output_type": "execute_result",
     "data": {
      "text/plain": [
       "930"
      ]
     },
     "metadata": {},
     "execution_count": 35
    }
   ],
   "source": [
    "women_churn = churn[churn['Gender'] == 'F'].Gender.count()\n",
    "women_churn"
   ]
  },
  {
   "cell_type": "code",
   "execution_count": 36,
   "metadata": {},
   "outputs": [
    {
     "output_type": "execute_result",
     "data": {
      "text/plain": [
       "697"
      ]
     },
     "metadata": {},
     "execution_count": 36
    }
   ],
   "source": [
    "men_churn = churn[churn['Gender'] == 'M'].Gender.count()\n",
    "men_churn"
   ]
  },
  {
   "cell_type": "code",
   "execution_count": 38,
   "metadata": {},
   "outputs": [
    {
     "output_type": "execute_result",
     "data": {
      "text/plain": [
       "52.908067542213885"
      ]
     },
     "metadata": {},
     "execution_count": 38
    }
   ],
   "source": [
    "# Percent of Women in dataset\n",
    "\n",
    "women_total/(women_total + men_total)*100"
   ]
  },
  {
   "cell_type": "code",
   "execution_count": 40,
   "metadata": {},
   "outputs": [
    {
     "output_type": "execute_result",
     "data": {
      "text/plain": [
       "57.16041794714199"
      ]
     },
     "metadata": {},
     "execution_count": 40
    }
   ],
   "source": [
    "# Percent of Women in churn rate\n",
    "\n",
    "women_churn/churn.Gender.count()*100"
   ]
  },
  {
   "cell_type": "code",
   "execution_count": 41,
   "metadata": {},
   "outputs": [
    {
     "output_type": "execute_result",
     "data": {
      "text/plain": [
       "47.091932457786115"
      ]
     },
     "metadata": {},
     "execution_count": 41
    }
   ],
   "source": [
    "# Percent of Men in dataset\n",
    "\n",
    "men_total/(women_total + men_total)*100"
   ]
  },
  {
   "cell_type": "code",
   "execution_count": 42,
   "metadata": {},
   "outputs": [
    {
     "output_type": "execute_result",
     "data": {
      "text/plain": [
       "42.83958205285802"
      ]
     },
     "metadata": {},
     "execution_count": 42
    }
   ],
   "source": [
    "# Percent of Men in churn rate\n",
    "\n",
    "men_churn/churn.Gender.count()*100"
   ]
  },
  {
   "cell_type": "code",
   "execution_count": 43,
   "metadata": {},
   "outputs": [
    {
     "output_type": "execute_result",
     "data": {
      "text/plain": [
       "0.17357222844344905"
      ]
     },
     "metadata": {},
     "execution_count": 43
    }
   ],
   "source": [
    "women_churn/women_total\n"
   ]
  },
  {
   "cell_type": "code",
   "execution_count": 44,
   "metadata": {},
   "outputs": [
    {
     "output_type": "execute_result",
     "data": {
      "text/plain": [
       "0.14615223317257287"
      ]
     },
     "metadata": {},
     "execution_count": 44
    }
   ],
   "source": [
    "men_churn/men_total"
   ]
  }
 ]
}